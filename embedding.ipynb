{
 "cells": [
  {
   "cell_type": "code",
   "execution_count": 1,
   "metadata": {},
   "outputs": [],
   "source": [
    "import numpy as np"
   ]
  },
  {
   "cell_type": "code",
   "execution_count": 2,
   "metadata": {},
   "outputs": [
    {
     "data": {
      "text/plain": [
       "array([[-0.1516777 , -0.01056179,  0.04791153, ..., -0.03250477,\n",
       "        -0.08784989,  0.03058047],\n",
       "       [-0.10786778,  0.01905116,  0.02028988, ..., -0.03087874,\n",
       "        -0.02153708,  0.04626755],\n",
       "       [-0.06762857, -0.0092613 , -0.02932175, ..., -0.05505816,\n",
       "        -0.05220206,  0.02144733],\n",
       "       ...,\n",
       "       [-0.04992713, -0.02224714,  0.02577169, ..., -0.1306832 ,\n",
       "        -0.02948578,  0.01314689],\n",
       "       [-0.08567873, -0.05059794,  0.02935694, ...,  0.05722547,\n",
       "         0.04893554,  0.11565599],\n",
       "       [-0.03875324,  0.00118525,  0.00713469, ...,  0.0088121 ,\n",
       "        -0.00114112,  0.05823627]], dtype=float32)"
      ]
     },
     "execution_count": 2,
     "metadata": {},
     "output_type": "execute_result"
    }
   ],
   "source": [
    "np.load(\"static/arxiv-metadata-oai-snapshot_hepthph_emb.npy\")"
   ]
  },
  {
   "cell_type": "code",
   "execution_count": null,
   "metadata": {},
   "outputs": [],
   "source": []
  }
 ],
 "metadata": {
  "kernelspec": {
   "display_name": "Python 3.10.4 64-bit ('arxivtinder')",
   "language": "python",
   "name": "python3"
  },
  "language_info": {
   "codemirror_mode": {
    "name": "ipython",
    "version": 3
   },
   "file_extension": ".py",
   "mimetype": "text/x-python",
   "name": "python",
   "nbconvert_exporter": "python",
   "pygments_lexer": "ipython3",
   "version": "3.10.4"
  },
  "orig_nbformat": 4,
  "vscode": {
   "interpreter": {
    "hash": "01f7cd6e3d0c7a612eef4951a74c50e7beb0922c18ef1cec90ba15c0c397df96"
   }
  }
 },
 "nbformat": 4,
 "nbformat_minor": 2
}

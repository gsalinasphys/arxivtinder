{
 "cells": [
  {
   "cell_type": "code",
   "execution_count": 1,
   "metadata": {},
   "outputs": [],
   "source": [
    "import numpy as np\n",
    "import pandas as pd"
   ]
  },
  {
   "cell_type": "code",
   "execution_count": 6,
   "metadata": {},
   "outputs": [],
   "source": [
    "filename = \"static/arxiv-metadata-oai-snapshot_hepthph\""
   ]
  },
  {
   "cell_type": "code",
   "execution_count": 7,
   "metadata": {},
   "outputs": [],
   "source": [
    "df = pd.read_json(filename + '.json', lines=True)"
   ]
  },
  {
   "cell_type": "code",
   "execution_count": 11,
   "metadata": {},
   "outputs": [
    {
     "data": {
      "text/html": [
       "<div>\n",
       "<style scoped>\n",
       "    .dataframe tbody tr th:only-of-type {\n",
       "        vertical-align: middle;\n",
       "    }\n",
       "\n",
       "    .dataframe tbody tr th {\n",
       "        vertical-align: top;\n",
       "    }\n",
       "\n",
       "    .dataframe thead th {\n",
       "        text-align: right;\n",
       "    }\n",
       "</style>\n",
       "<table border=\"1\" class=\"dataframe\">\n",
       "  <thead>\n",
       "    <tr style=\"text-align: right;\">\n",
       "      <th></th>\n",
       "      <th>id</th>\n",
       "      <th>submitter</th>\n",
       "      <th>authors</th>\n",
       "      <th>title</th>\n",
       "      <th>comments</th>\n",
       "      <th>journal-ref</th>\n",
       "      <th>doi</th>\n",
       "      <th>report-no</th>\n",
       "      <th>categories</th>\n",
       "      <th>license</th>\n",
       "      <th>abstract</th>\n",
       "      <th>versions</th>\n",
       "      <th>update_date</th>\n",
       "      <th>authors_parsed</th>\n",
       "    </tr>\n",
       "  </thead>\n",
       "  <tbody>\n",
       "    <tr>\n",
       "      <th>0</th>\n",
       "      <td>704.0001</td>\n",
       "      <td>Pavel Nadolsky</td>\n",
       "      <td>C. Bal\\'azs, E. L. Berger, P. M. Nadolsky, C.-...</td>\n",
       "      <td>Calculation of prompt diphoton production cros...</td>\n",
       "      <td>37 pages, 15 figures; published version</td>\n",
       "      <td>Phys.Rev.D76:013009,2007</td>\n",
       "      <td>10.1103/PhysRevD.76.013009</td>\n",
       "      <td>ANL-HEP-PR-07-12</td>\n",
       "      <td>hep-ph</td>\n",
       "      <td>None</td>\n",
       "      <td>A fully differential calculation in perturba...</td>\n",
       "      <td>[{'version': 'v1', 'created': 'Mon, 2 Apr 2007...</td>\n",
       "      <td>2008-11-26</td>\n",
       "      <td>[[Balázs, C., ], [Berger, E. L., ], [Nadolsky,...</td>\n",
       "    </tr>\n",
       "    <tr>\n",
       "      <th>1</th>\n",
       "      <td>704.0015</td>\n",
       "      <td>Christian Stahn</td>\n",
       "      <td>Christian Stahn</td>\n",
       "      <td>Fermionic superstring loop amplitudes in the p...</td>\n",
       "      <td>22 pages; signs and coefficients adjusted for ...</td>\n",
       "      <td>JHEP 0705:034,2007</td>\n",
       "      <td>10.1088/1126-6708/2007/05/034</td>\n",
       "      <td>None</td>\n",
       "      <td>hep-th</td>\n",
       "      <td>None</td>\n",
       "      <td>The pure spinor formulation of the ten-dimen...</td>\n",
       "      <td>[{'version': 'v1', 'created': 'Mon, 2 Apr 2007...</td>\n",
       "      <td>2009-11-13</td>\n",
       "      <td>[[Stahn, Christian, ]]</td>\n",
       "    </tr>\n",
       "    <tr>\n",
       "      <th>2</th>\n",
       "      <td>704.0016</td>\n",
       "      <td>Li Tong</td>\n",
       "      <td>Chao-Hsi Chang, Tong Li, Xue-Qian Li and Yu-Mi...</td>\n",
       "      <td>Lifetime of doubly charmed baryons</td>\n",
       "      <td>17 pages, 3 figures and 1 table</td>\n",
       "      <td>Commun.Theor.Phys.49:993-1000,2008</td>\n",
       "      <td>10.1088/0253-6102/49/4/38</td>\n",
       "      <td>None</td>\n",
       "      <td>hep-ph</td>\n",
       "      <td>None</td>\n",
       "      <td>In this work, we evaluate the lifetimes of t...</td>\n",
       "      <td>[{'version': 'v1', 'created': 'Sat, 31 Mar 200...</td>\n",
       "      <td>2008-12-18</td>\n",
       "      <td>[[Chang, Chao-Hsi, ], [Li, Tong, ], [Li, Xue-Q...</td>\n",
       "    </tr>\n",
       "    <tr>\n",
       "      <th>3</th>\n",
       "      <td>704.0018</td>\n",
       "      <td>Andreas Gustavsson</td>\n",
       "      <td>Andreas Gustavsson</td>\n",
       "      <td>In quest of a generalized Callias index theorem</td>\n",
       "      <td>20 pages, v2: an overall sign and typos corrected</td>\n",
       "      <td>None</td>\n",
       "      <td>None</td>\n",
       "      <td>None</td>\n",
       "      <td>hep-th</td>\n",
       "      <td>None</td>\n",
       "      <td>We give a prescription for how to compute th...</td>\n",
       "      <td>[{'version': 'v1', 'created': 'Mon, 2 Apr 2007...</td>\n",
       "      <td>2007-05-23</td>\n",
       "      <td>[[Gustavsson, Andreas, ]]</td>\n",
       "    </tr>\n",
       "    <tr>\n",
       "      <th>4</th>\n",
       "      <td>704.0029</td>\n",
       "      <td>Weizhen Deng</td>\n",
       "      <td>Zhan Shu, Xiao-Lin Chen and Wei-Zhen Deng</td>\n",
       "      <td>Understanding the Flavor Symmetry Breaking and...</td>\n",
       "      <td>None</td>\n",
       "      <td>Phys.Rev.D75:094018,2007</td>\n",
       "      <td>10.1103/PhysRevD.75.094018</td>\n",
       "      <td>None</td>\n",
       "      <td>hep-ph</td>\n",
       "      <td>None</td>\n",
       "      <td>In $\\XQM$, a quark can emit Goldstone bosons...</td>\n",
       "      <td>[{'version': 'v1', 'created': 'Sat, 31 Mar 200...</td>\n",
       "      <td>2010-04-23</td>\n",
       "      <td>[[Shu, Zhan, ], [Chen, Xiao-Lin, ], [Deng, Wei...</td>\n",
       "    </tr>\n",
       "  </tbody>\n",
       "</table>\n",
       "</div>"
      ],
      "text/plain": [
       "         id           submitter  \\\n",
       "0  704.0001      Pavel Nadolsky   \n",
       "1  704.0015     Christian Stahn   \n",
       "2  704.0016             Li Tong   \n",
       "3  704.0018  Andreas Gustavsson   \n",
       "4  704.0029        Weizhen Deng   \n",
       "\n",
       "                                             authors  \\\n",
       "0  C. Bal\\'azs, E. L. Berger, P. M. Nadolsky, C.-...   \n",
       "1                                    Christian Stahn   \n",
       "2  Chao-Hsi Chang, Tong Li, Xue-Qian Li and Yu-Mi...   \n",
       "3                                 Andreas Gustavsson   \n",
       "4          Zhan Shu, Xiao-Lin Chen and Wei-Zhen Deng   \n",
       "\n",
       "                                               title  \\\n",
       "0  Calculation of prompt diphoton production cros...   \n",
       "1  Fermionic superstring loop amplitudes in the p...   \n",
       "2                 Lifetime of doubly charmed baryons   \n",
       "3    In quest of a generalized Callias index theorem   \n",
       "4  Understanding the Flavor Symmetry Breaking and...   \n",
       "\n",
       "                                            comments  \\\n",
       "0            37 pages, 15 figures; published version   \n",
       "1  22 pages; signs and coefficients adjusted for ...   \n",
       "2                    17 pages, 3 figures and 1 table   \n",
       "3  20 pages, v2: an overall sign and typos corrected   \n",
       "4                                               None   \n",
       "\n",
       "                          journal-ref                            doi  \\\n",
       "0            Phys.Rev.D76:013009,2007     10.1103/PhysRevD.76.013009   \n",
       "1                  JHEP 0705:034,2007  10.1088/1126-6708/2007/05/034   \n",
       "2  Commun.Theor.Phys.49:993-1000,2008      10.1088/0253-6102/49/4/38   \n",
       "3                                None                           None   \n",
       "4            Phys.Rev.D75:094018,2007     10.1103/PhysRevD.75.094018   \n",
       "\n",
       "          report-no categories license  \\\n",
       "0  ANL-HEP-PR-07-12     hep-ph    None   \n",
       "1              None     hep-th    None   \n",
       "2              None     hep-ph    None   \n",
       "3              None     hep-th    None   \n",
       "4              None     hep-ph    None   \n",
       "\n",
       "                                            abstract  \\\n",
       "0    A fully differential calculation in perturba...   \n",
       "1    The pure spinor formulation of the ten-dimen...   \n",
       "2    In this work, we evaluate the lifetimes of t...   \n",
       "3    We give a prescription for how to compute th...   \n",
       "4    In $\\XQM$, a quark can emit Goldstone bosons...   \n",
       "\n",
       "                                            versions update_date  \\\n",
       "0  [{'version': 'v1', 'created': 'Mon, 2 Apr 2007...  2008-11-26   \n",
       "1  [{'version': 'v1', 'created': 'Mon, 2 Apr 2007...  2009-11-13   \n",
       "2  [{'version': 'v1', 'created': 'Sat, 31 Mar 200...  2008-12-18   \n",
       "3  [{'version': 'v1', 'created': 'Mon, 2 Apr 2007...  2007-05-23   \n",
       "4  [{'version': 'v1', 'created': 'Sat, 31 Mar 200...  2010-04-23   \n",
       "\n",
       "                                      authors_parsed  \n",
       "0  [[Balázs, C., ], [Berger, E. L., ], [Nadolsky,...  \n",
       "1                             [[Stahn, Christian, ]]  \n",
       "2  [[Chang, Chao-Hsi, ], [Li, Tong, ], [Li, Xue-Q...  \n",
       "3                          [[Gustavsson, Andreas, ]]  \n",
       "4  [[Shu, Zhan, ], [Chen, Xiao-Lin, ], [Deng, Wei...  "
      ]
     },
     "execution_count": 11,
     "metadata": {},
     "output_type": "execute_result"
    }
   ],
   "source": [
    "df.head()"
   ]
  },
  {
   "cell_type": "code",
   "execution_count": 20,
   "metadata": {},
   "outputs": [
    {
     "data": {
      "text/plain": [
       "array([[-0.1549396 , -0.00654351,  0.00059371, ..., -0.03926805,\n",
       "        -0.02458371,  0.02847337],\n",
       "       [-0.02126659, -0.01009549, -0.04142886, ...,  0.03293357,\n",
       "        -0.06766351,  0.02666849],\n",
       "       [-0.12368903, -0.03459235,  0.04884155, ..., -0.05483533,\n",
       "        -0.03850769,  0.00309927],\n",
       "       ...,\n",
       "       [-0.1801287 ,  0.01744077, -0.01066532, ..., -0.01072424,\n",
       "        -0.00951854,  0.06182157],\n",
       "       [-0.16446325, -0.01905498, -0.02005232, ..., -0.0135295 ,\n",
       "        -0.03986515,  0.01055428],\n",
       "       [-0.05505489,  0.02524485,  0.03260095, ..., -0.04639792,\n",
       "        -0.02897992,  0.11244154]], dtype=float32)"
      ]
     },
     "execution_count": 20,
     "metadata": {},
     "output_type": "execute_result"
    }
   ],
   "source": [
    "embeddings = np.load(filename + '_emb.npy')\n",
    "embeddings"
   ]
  },
  {
   "cell_type": "code",
   "execution_count": 41,
   "metadata": {},
   "outputs": [],
   "source": [
    "def cosine_similarity(embeddings: np.ndarray, row: int) -> np.ndarray:\n",
    "    return [np.dot(embeddings[row], embeddings[ii]) for ii in range(len(embeddings))]\n",
    "\n",
    "def best_hit(embeddings: np.ndarray, row: int) -> int:\n",
    "    cossims = np.array(cosine_similarity(embeddings, row))\n",
    "    return np.where(cossims == np.sort(cossims)[-2])[0][0]"
   ]
  },
  {
   "cell_type": "code",
   "execution_count": 47,
   "metadata": {},
   "outputs": [
    {
     "data": {
      "text/plain": [
       "'  The pure spinor formulation of the ten-dimensional superstring leads to\\nmanifestly supersymmetric loop amplitudes, expressed as integrals in pure\\nspinor superspace. This paper explores different methods to evaluate these\\nintegrals and then uses them to calculate the kinematic factors of the one-loop\\nand two-loop massless four-point amplitudes involving two and four Ramond\\nstates.\\n'"
      ]
     },
     "execution_count": 47,
     "metadata": {},
     "output_type": "execute_result"
    }
   ],
   "source": [
    "df.iloc[1]['abstract']"
   ]
  },
  {
   "cell_type": "code",
   "execution_count": 48,
   "metadata": {},
   "outputs": [
    {
     "data": {
      "text/plain": [
       "'  Using the results recently obtained for computing integrals over\\n(non-minimal) pure spinor superspace, we compute the coefficient of the\\nmassless two-loop four-point amplitude from first principles. Contrasting with\\nthe mathematical difficulties in the RNS formalism where unknown normalizations\\nof chiral determinant formulae force the two-loop coefficient to be determined\\nonly indirectly through factorization, the computation in the pure spinor\\nformalism can be smoothly carried out.\\n'"
      ]
     },
     "execution_count": 48,
     "metadata": {},
     "output_type": "execute_result"
    }
   ],
   "source": [
    "df.iloc[best_hit(embeddings, 1)]['abstract']"
   ]
  }
 ],
 "metadata": {
  "kernelspec": {
   "display_name": "Python 3.10.4 64-bit ('arxivtinder')",
   "language": "python",
   "name": "python3"
  },
  "language_info": {
   "codemirror_mode": {
    "name": "ipython",
    "version": 3
   },
   "file_extension": ".py",
   "mimetype": "text/x-python",
   "name": "python",
   "nbconvert_exporter": "python",
   "pygments_lexer": "ipython3",
   "version": "3.10.4"
  },
  "orig_nbformat": 4,
  "vscode": {
   "interpreter": {
    "hash": "01f7cd6e3d0c7a612eef4951a74c50e7beb0922c18ef1cec90ba15c0c397df96"
   }
  }
 },
 "nbformat": 4,
 "nbformat_minor": 2
}

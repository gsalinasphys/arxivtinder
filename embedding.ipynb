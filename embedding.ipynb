{
 "cells": [
  {
   "cell_type": "code",
   "execution_count": 1,
   "metadata": {},
   "outputs": [],
   "source": [
    "import numpy as np"
   ]
  },
  {
   "cell_type": "code",
   "execution_count": 22,
   "metadata": {},
   "outputs": [
    {
     "data": {
      "text/plain": [
       "array([[-4.13417965e-02,  4.18028869e-02, -3.90981100e-02, ...,\n",
       "         5.45925945e-02,  8.13843757e-02,  1.06238830e-03],\n",
       "       [-1.43814966e-01, -3.14036477e-03, -2.97594932e-04, ...,\n",
       "        -1.26471549e-01, -9.89722461e-02,  1.28122028e-02],\n",
       "       [-1.84867773e-02, -1.07087726e-02,  2.36847382e-02, ...,\n",
       "         2.35312362e-03, -7.74830654e-02,  3.50241996e-02],\n",
       "       ...,\n",
       "       [-1.16716273e-01, -3.99969034e-02,  3.68652381e-02, ...,\n",
       "        -9.75080207e-02, -7.51577020e-02,  4.88702431e-02],\n",
       "       [-5.97732104e-02, -3.28666121e-02,  1.23697206e-01, ...,\n",
       "         2.84005944e-02, -1.56199755e-02, -3.95883285e-02],\n",
       "       [ 1.10225912e-04,  1.22844558e-02, -5.79698049e-02, ...,\n",
       "         1.66009031e-02, -3.56000923e-02, -1.29082827e-02]], dtype=float32)"
      ]
     },
     "execution_count": 22,
     "metadata": {},
     "output_type": "execute_result"
    }
   ],
   "source": [
    "file = \"static/arxiv-metadata-oai-snapshot_from17_emb.npy\"\n",
    "np.load(file)"
   ]
  }
 ],
 "metadata": {
  "kernelspec": {
   "display_name": "Python 3.10.4 64-bit ('arxivtinder')",
   "language": "python",
   "name": "python3"
  },
  "language_info": {
   "codemirror_mode": {
    "name": "ipython",
    "version": 3
   },
   "file_extension": ".py",
   "mimetype": "text/x-python",
   "name": "python",
   "nbconvert_exporter": "python",
   "pygments_lexer": "ipython3",
   "version": "3.10.4"
  },
  "orig_nbformat": 4,
  "vscode": {
   "interpreter": {
    "hash": "01f7cd6e3d0c7a612eef4951a74c50e7beb0922c18ef1cec90ba15c0c397df96"
   }
  }
 },
 "nbformat": 4,
 "nbformat_minor": 2
}

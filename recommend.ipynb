{
 "cells": [
  {
   "cell_type": "code",
   "execution_count": 1,
   "metadata": {},
   "outputs": [],
   "source": [
    "import numpy as np\n",
    "import pandas as pd\n",
    "from recommend import recommend_from_one, top_hits, cosine_similarity_norm"
   ]
  },
  {
   "cell_type": "code",
   "execution_count": 2,
   "metadata": {},
   "outputs": [],
   "source": [
    "filename = '/home/gsalinas/GitHub/arxivtinder/static/arxiv-metadata-oai-snapshot_hepthph'"
   ]
  },
  {
   "cell_type": "code",
   "execution_count": 3,
   "metadata": {},
   "outputs": [],
   "source": [
    "df = pd.read_json(filename + '.json', lines=True)"
   ]
  },
  {
   "cell_type": "code",
   "execution_count": 4,
   "metadata": {},
   "outputs": [
    {
     "data": {
      "text/plain": [
       "array([[-0.1549396 , -0.00654351,  0.00059371, ..., -0.03926805,\n",
       "        -0.02458371,  0.02847337],\n",
       "       [-0.02126659, -0.01009549, -0.04142886, ...,  0.03293357,\n",
       "        -0.06766351,  0.02666849],\n",
       "       [-0.12368903, -0.03459235,  0.04884155, ..., -0.05483533,\n",
       "        -0.03850769,  0.00309927],\n",
       "       ...,\n",
       "       [-0.1801287 ,  0.01744077, -0.01066532, ..., -0.01072424,\n",
       "        -0.00951854,  0.06182157],\n",
       "       [-0.16446325, -0.01905498, -0.02005232, ..., -0.0135295 ,\n",
       "        -0.03986515,  0.01055428],\n",
       "       [-0.05505489,  0.02524485,  0.03260095, ..., -0.04639792,\n",
       "        -0.02897992,  0.11244154]], dtype=float32)"
      ]
     },
     "execution_count": 4,
     "metadata": {},
     "output_type": "execute_result"
    }
   ],
   "source": [
    "embeddings = np.load(filename + '_emb.npy')\n",
    "embeddings"
   ]
  },
  {
   "cell_type": "code",
   "execution_count": 5,
   "metadata": {},
   "outputs": [
    {
     "data": {
      "text/plain": [
       "(array([211483, 225139, 200576, 210106, 168698, 195849, 231396, 195321,\n",
       "        225197, 238030]),\n",
       " array([0.79976207, 0.78102565, 0.76483625, 0.7629032 , 0.7620157 ,\n",
       "        0.7566498 , 0.756156  , 0.75339925, 0.75065935, 0.747989  ],\n",
       "       dtype=float32))"
      ]
     },
     "execution_count": 5,
     "metadata": {},
     "output_type": "execute_result"
    }
   ],
   "source": [
    "top_hits(embeddings, 0, 10)"
   ]
  },
  {
   "cell_type": "code",
   "execution_count": 6,
   "metadata": {},
   "outputs": [
    {
     "data": {
      "text/plain": [
       "(200576, 0.76483625)"
      ]
     },
     "execution_count": 6,
     "metadata": {},
     "output_type": "execute_result"
    }
   ],
   "source": [
    "recommend_from_one(embeddings, 0)"
   ]
  },
  {
   "cell_type": "code",
   "execution_count": 7,
   "metadata": {},
   "outputs": [
    {
     "data": {
      "text/plain": [
       "'  A fully differential calculation in perturbative quantum chromodynamics is\\npresented for the production of massive photon pairs at hadron colliders. All\\nnext-to-leading order perturbative contributions from quark-antiquark,\\ngluon-(anti)quark, and gluon-gluon subprocesses are included, as well as\\nall-orders resummation of initial-state gluon radiation valid at\\nnext-to-next-to-leading logarithmic accuracy. The region of phase space is\\nspecified in which the calculation is most reliable. Good agreement is\\ndemonstrated with data from the Fermilab Tevatron, and predictions are made for\\nmore detailed tests with CDF and DO data. Predictions are shown for\\ndistributions of diphoton pairs produced at the energy of the Large Hadron\\nCollider (LHC). Distributions of the diphoton pairs from the decay of a Higgs\\nboson are contrasted with those produced from QCD processes at the LHC, showing\\nthat enhanced sensitivity to the signal can be obtained with judicious\\nselection of events.\\n'"
      ]
     },
     "execution_count": 7,
     "metadata": {},
     "output_type": "execute_result"
    }
   ],
   "source": [
    "df.iloc[0]['abstract']"
   ]
  },
  {
   "cell_type": "code",
   "execution_count": 8,
   "metadata": {},
   "outputs": [
    {
     "data": {
      "text/plain": [
       "'  We discuss the transverse momentum distribution for the production of massive\\nlepton-pairs in hadron reactions at fixed target and collider energies within\\nthe context of next-to-leading order perturbative quantum chromodynamics. For\\nvalues of the transverse momentum $Q_T$ greater than the pair mass $Q$, $Q_T >\\nQ$, we show that the differential cross section is dominated by subprocesses\\ninitiated by incident gluons. Massive lepton-pair differential cross sections\\nare an advantageous source of constraints on the gluon density, free from the\\nexperimental and theoretical complications of photon isolation that beset\\nstudies of prompt photon production. We compare calculations with data and\\nprovide predictions for the differential cross section as a function of $Q_T$\\nin proton-antiproton reactions at center-of-mass energies of 1.8 TeV, and in\\nproton-nucleon reactions at fixed target and LHC energies.\\n'"
      ]
     },
     "execution_count": 8,
     "metadata": {},
     "output_type": "execute_result"
    }
   ],
   "source": [
    "df.iloc[recommend_from_one(embeddings, 0)[0]]['abstract']"
   ]
  },
  {
   "cell_type": "code",
   "execution_count": 9,
   "metadata": {},
   "outputs": [
    {
     "data": {
      "text/plain": [
       "'  Weak gauge boson pair production is an important process at the LHC because\\nit probes the non-Abelian structure of electroweak interactions and it is a\\nbackground process for many new physics searches, and with enough statistics we\\ncan perform comparisons between measurements and theoretical calculations for\\ndifferent but correlated observables. In these proceedings, we present a\\ntheoretical status including state-of-the-art results from recent calculations\\nof higher-order QCD and electroweak corrections.\\n'"
      ]
     },
     "execution_count": 9,
     "metadata": {},
     "output_type": "execute_result"
    }
   ],
   "source": [
    "df.iloc[recommend_from_one(embeddings, 0, n_reach=10_000)[0]]['abstract']"
   ]
  },
  {
   "cell_type": "code",
   "execution_count": 10,
   "metadata": {},
   "outputs": [
    {
     "data": {
      "text/plain": [
       "'  We present a QCD calculation of the transverse momentum distribution of\\nphoton pairs produced at hadron colliders, including all-orders soft-gluon\\nresummation valid at next-to-next-to-leading logarithmic accuracy. We specify\\nthe region of phase space in which the calculation is most reliable, compare\\nour results with data from the Fermilab Tevatron, and make predictions for the\\nLarge Hadron Collider. The uncertainty of predictions for production of\\ndiphotons from fragmentation of final-state quarks is examined.\\n'"
      ]
     },
     "execution_count": 10,
     "metadata": {},
     "output_type": "execute_result"
    }
   ],
   "source": [
    "df.iloc[recommend_from_one(embeddings, 0, temperature=1)[0]]['abstract']"
   ]
  },
  {
   "cell_type": "code",
   "execution_count": null,
   "metadata": {},
   "outputs": [],
   "source": []
  }
 ],
 "metadata": {
  "kernelspec": {
   "display_name": "Python 3.10.4 64-bit ('arxivtinder')",
   "language": "python",
   "name": "python3"
  },
  "language_info": {
   "codemirror_mode": {
    "name": "ipython",
    "version": 3
   },
   "file_extension": ".py",
   "mimetype": "text/x-python",
   "name": "python",
   "nbconvert_exporter": "python",
   "pygments_lexer": "ipython3",
   "version": "3.10.4"
  },
  "orig_nbformat": 4,
  "vscode": {
   "interpreter": {
    "hash": "01f7cd6e3d0c7a612eef4951a74c50e7beb0922c18ef1cec90ba15c0c397df96"
   }
  }
 },
 "nbformat": 4,
 "nbformat_minor": 2
}
